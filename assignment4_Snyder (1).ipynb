{
 "cells": [
  {
   "cell_type": "markdown",
   "id": "33885243",
   "metadata": {},
   "source": [
    "# Bohr models of ions\n",
    "\n",
    "The Bohr model works for atoms with only one electron. Adding electrons would require accounting for their mutual Coulomb forces, which would depend on the electrons' locations in their orbits. However, there are ions that have only one electron, for which a small modification to the Bohr model can predict their energy levels.\n",
    "\n",
    "Read the notebook <tt>Bohr_model_extensions.ipynb</tt>, which is on the class GitHub page. You will be using Equation 1 to compare the photon energy that correspond to energy level transitions in hydrogen, singly-ionized helium, and doubly-ionized lithium.\n",
    "\n",
    "Note: you are responsible for importing the packages you need and making sure your axis labels are large enough to be readable.\n",
    "\n",
    "<ol>\n",
    "    <li>Write a function that finds the photon <em>energy</em> in eV (calculate it from the wavelength predicted by the Rydberg equation) that moves an electron between levels $n$ and $n+1$. The independent variables of your function should be $Z$ (atomic number) and $n$. Do not hand-code any constants: use the pre-programmed values in <tt>scipy</tt>.</li>\n",
    "</ol>"
   ]
  },
  {
   "cell_type": "code",
   "execution_count": 231,
   "id": "d9969682",
   "metadata": {},
   "outputs": [],
   "source": [
    "import numpy as np\n",
    "import matplotlib.pyplot as plt\n",
    "from scipy import constants\n",
    "\n",
    "def photon_eV(Z,n):\n",
    "    # Formula to find photon energy from wavelength is E = (hc)/wavelength where h is Plancks constant\n",
    "    # c is the speed of light and wavelength is the wavelength as calculated from the Rydberg equation\n",
    "    \n",
    "    # Calculating wavelength\n",
    "    # Rydberg equation is (1/wavelength) = Rydberg Constant(1/n1^2-1/n2^2) where in our case n1 is n and n2 is n+1\n",
    "    # Rearranging the equation to solve for wavelength we get\n",
    "    wavelength = 1/(constants.Rydberg*Z**2*((1/n**2)-(1/(n+1)**2)))\n",
    "    \n",
    "    # Plugging the wavelegnth equation in the photon energy equation we get, this is in Joules\n",
    "    photon_energy = (constants.Planck*constants.speed_of_light)/wavelength\n",
    "    \n",
    "    # Converting photon energy in Joules to electron volts multiply by 6.24*10^18 (Joules times eV/Joule = eV)\n",
    "    eV = photon_energy*(6.241509074*10**18)\n",
    "    \n",
    "    return eV\n",
    "\n"
   ]
  },
  {
   "cell_type": "markdown",
   "id": "3eb29aa5",
   "metadata": {},
   "source": [
    "<ol start = 2>\n",
    "    <li>Use the python function of your choice to create an integer <em>array</em> (not list) of values $n = 1, 2, \\ldots, 10$. Do not simply hard-code in all the numbers by hand. Create a second array (not list) of atomic numbers $Z = 1, 2, 3$, again using a python function.</li>\n",
    "</ol>"
   ]
  },
  {
   "cell_type": "code",
   "execution_count": 232,
   "id": "105af0f4",
   "metadata": {},
   "outputs": [
    {
     "name": "stdout",
     "output_type": "stream",
     "text": [
      "[ 1  2  3  4  5  6  7  8  9 10]\n",
      "[1 2 3]\n"
     ]
    }
   ],
   "source": [
    "import numpy as np\n",
    "import matplotlib.pyplot as plt\n",
    "from scipy import constants\n",
    "\n",
    "# Array for n values from 1 to 10\n",
    "n = np.arange(1,11)\n",
    "\n",
    "# Array for Z values from 1 to 3\n",
    "Z = np.arange(1,4)\n",
    "\n",
    "print(n)\n",
    "print(Z)\n",
    "\n",
    "# Note python indexes to x - 1 which is why the second number in the np.arange function is 11 \n",
    "# So the np.arange function will index to 11-1 = 10 for n values\n",
    "# And the np.arange function will index to 4-1=3 for Z values\n"
   ]
  },
  {
   "cell_type": "markdown",
   "id": "fdc267f4",
   "metadata": {},
   "source": [
    "<ol start=3>\n",
    "    <li>For each combination of $Z$ and $n$, calculate the energy of light required to move from level $n$ to $n+1$. Store the results in an array with 3 rows and 10 columns. You may find the meshgrid command helpful.</li>\n",
    "</ol>"
   ]
  },
  {
   "cell_type": "code",
   "execution_count": 233,
   "id": "fb38e7e0",
   "metadata": {},
   "outputs": [
    {
     "name": "stdout",
     "output_type": "stream",
     "text": [
      "[[1.02042698e+01 1.88967960e+00 6.61387860e-01 3.06128095e-01\n",
      "  1.66291805e-01 1.00268713e-01 6.50782515e-02 4.46174350e-02\n",
      "  3.19145888e-02 2.36131864e-02]\n",
      " [4.08170794e+01 7.55871840e+00 2.64555144e+00 1.22451238e+00\n",
      "  6.65167219e-01 4.01074854e-01 2.60313006e-01 1.78469740e-01\n",
      "  1.27658355e-01 9.44527456e-02]\n",
      " [9.18384286e+01 1.70071164e+01 5.95249074e+00 2.75515286e+00\n",
      "  1.49662624e+00 9.02418421e-01 5.85704264e-01 4.01556915e-01\n",
      "  2.87231299e-01 2.12518678e-01]]\n"
     ]
    }
   ],
   "source": [
    "import numpy as np\n",
    "import matplotlib.pyplot as plt\n",
    "from scipy import constants\n",
    "\n",
    "# Array for n values from 1 to 10\n",
    "n = np.arange(1,11)\n",
    "\n",
    "# Array for Z values from 1 to 3\n",
    "Z = np.arange(1,4)\n",
    "\n",
    "Zv,nv = np.meshgrid(Z,n)\n",
    "# Your code here\n",
    "\n",
    "# Create an array of size 3 rows 10 columns with values of 0\n",
    "ev_array = np.zeros((3,10))\n",
    "\n",
    "# Energy of light function was already defined in problem 1 so no need to rewrite\n",
    "# n and Z values already defined from problem 2 so no need to rewrite\n",
    "# Populating the array, for loop will loop through each array position and fill that array position \n",
    "# with the associated photon energy value, i.e [1,1] of the array is photon_eV(1,1)\n",
    "\n",
    "for i in range(3):\n",
    "    for j in range(10):\n",
    "        # print(\"i:\", i, \"j:\", j), checked values for iterating through array because was having trouble with repeating values\n",
    "        # issue was in problem 1 not multipying the rydberg constats by Z^2\n",
    "        Z_value = Zv[j,i] # Current value for Z while iterating through array\n",
    "        n_value = nv[j,i] # Current value for n while iterating through array\n",
    "        ev_array[i,j] = photon_eV(Z_value,n_value)\n",
    "        # print(Z_value,n_value)\n",
    "        \n",
    "print(ev_array)\n",
    "        \n",
    "\n",
    "                    "
   ]
  },
  {
   "cell_type": "markdown",
   "id": "4ce0665f",
   "metadata": {},
   "source": [
    "<ol start=4>\n",
    "    <li>Now you are going to make a color-coded plot. With $n$ on the x-axis and $z$ on the y-axis, add a circle to your plot at each $(n,z)$ ordered pair with the color determined by the energy calculated in question 3. Make sure your plot has a colorbar to show the energy scale, and put units on the colorbar. x and y axes should also be labeled.</li>\n",
    "</ol>\n",
    "\n",
    "I am including an example plot showing arbitrary dependent variable $w$ on a color scale as a function of independent variables $u$ and $v$. None of these variables mean anything; this example is just to help you visualize what your plot should look like."
   ]
  },
  {
   "cell_type": "code",
   "execution_count": 234,
   "id": "4585afc3",
   "metadata": {
    "scrolled": false
   },
   "outputs": [
    {
     "data": {
      "image/png": "[encoded data removed]",
      "text/plain": [
       "<Figure size 1152x288 with 2 Axes>"
      ]
     },
     "metadata": {
      "needs_background": "light"
     },
     "output_type": "display_data"
    }
   ],
   "source": [
    "#from PIL import Image\n",
    "#sample = Image.open(\"color_coded_scatter_example.png\")\n",
    "#display(sample)\n",
    "\n",
    "plt.figure(figsize=(16, 4))\n",
    "plt.scatter(nv, Zv, c=ev_array, cmap='turbo', s=250, edgecolors='black')\n",
    "plt.xticks(ticks=n)\n",
    "plt.yticks(ticks=Z)\n",
    "plt.colorbar(label='Photon Energy (eV)')\n",
    "plt.xlabel('n')\n",
    "plt.ylabel('Z', rotation = 0)\n",
    "plt.title('Photon Energies for Different Values of n and Z')\n",
    "plt.grid(False)\n",
    "plt.show()"
   ]
  },
  {
   "cell_type": "markdown",
   "id": "ecf1d35d",
   "metadata": {},
   "source": [
    "Code that might help you make your plot is in the cell below. You are free to do something else if you prefer."
   ]
  },
  {
   "cell_type": "code",
   "execution_count": 235,
   "id": "d4c9baa3",
   "metadata": {},
   "outputs": [],
   "source": [
    "#from mpl_toolkits.axes_grid1 import make_axes_locatable\n",
    "\n",
    "#fig, ax = plt.subplots(1, 1, figsize=(6,6))\n",
    "#plot1 = ax.scatter(nv, Zv, ...) # Look up how to make a color-coded scatter plot\n",
    "#ax.set_aspect('equal')\n",
    "\n",
    "# Create a colorbar axis on the right side of ax. The width of cax will be 8%\n",
    "# of ax and the padding between cax and ax will be fixed at 0.1 inch.\n",
    "#divider = make_axes_locatable(ax)\n",
    "#cax = divider.append_axes(\"right\", size=\"8%\", pad=0.1)\n",
    "#cbar = plt.colorbar(plot1, cax=cax)\n",
    "#cbar.ax.tick_params(labelsize=12) \n",
    "#cbar.set_label('...')"
   ]
  },
  {
   "cell_type": "code",
   "execution_count": null,
   "id": "72aa0bb2",
   "metadata": {},
   "outputs": [],
   "source": []
  },
  {
   "cell_type": "code",
   "execution_count": null,
   "id": "5215f796",
   "metadata": {},
   "outputs": [],
   "source": []
  }
 ],
 "metadata": {
  "kernelspec": {
   "display_name": "Python 3",
   "language": "python",
   "name": "python3"
  },
  "language_info": {
   "codemirror_mode": {
    "name": "ipython",
    "version": 3
   },
   "file_extension": ".py",
   "mimetype": "text/x-python",
   "name": "python",
   "nbconvert_exporter": "python",
   "pygments_lexer": "ipython3",
   "version": "3.8.8"
  }
 },
 "nbformat": 4,
 "nbformat_minor": 5
}
